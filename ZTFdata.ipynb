{
 "cells": [
  {
   "cell_type": "code",
   "execution_count": 1,
   "metadata": {},
   "outputs": [],
   "source": [
    "from HeaderP import *"
   ]
  },
  {
   "cell_type": "code",
   "execution_count": 2,
   "metadata": {},
   "outputs": [
    {
     "name": "stdout",
     "output_type": "stream",
     "text": [
      "Requirement already satisfied: pyarrow in /opt/homebrew/anaconda3/lib/python3.8/site-packages (6.0.0)\r\n",
      "Requirement already satisfied: numpy>=1.16.6 in /opt/homebrew/anaconda3/lib/python3.8/site-packages (from pyarrow) (1.21.2)\r\n"
     ]
    }
   ],
   "source": [
    "!pip install pyarrow"
   ]
  },
  {
   "cell_type": "code",
   "execution_count": 3,
   "metadata": {},
   "outputs": [],
   "source": [
    "import pyarrow.parquet as pq"
   ]
  },
  {
   "cell_type": "code",
   "execution_count": 4,
   "metadata": {},
   "outputs": [],
   "source": [
    "table2 = pq.read_table('./ztf_000202_zg_c10_q1_dr8.parquet').to_pandas().reset_index(drop=True)"
   ]
  },
  {
   "cell_type": "code",
   "execution_count": 5,
   "metadata": {},
   "outputs": [],
   "source": [
    "tlength = np.zeros(len(table2))\n",
    "for i in range(len(table2)):\n",
    "    tlength[i] = len(table2['hmjd'][i])"
   ]
  },
  {
   "cell_type": "code",
   "execution_count": 6,
   "metadata": {},
   "outputs": [
    {
     "name": "stdout",
     "output_type": "stream",
     "text": [
      "3414\n"
     ]
    },
    {
     "data": {
      "text/plain": [
       "1002"
      ]
     },
     "execution_count": 6,
     "metadata": {},
     "output_type": "execute_result"
    }
   ],
   "source": [
    "print(len(tlength))\n",
    "m=tlength>10\n",
    "sum(tlength>10)"
   ]
  },
  {
   "cell_type": "code",
   "execution_count": 7,
   "metadata": {},
   "outputs": [],
   "source": [
    "table2 = table2[m].reset_index(drop=True)"
   ]
  },
  {
   "cell_type": "code",
   "execution_count": 8,
   "metadata": {},
   "outputs": [
    {
     "data": {
      "text/plain": [
       "(17.673547744750977, 17.56039810180664)"
      ]
     },
     "execution_count": 8,
     "metadata": {},
     "output_type": "execute_result"
    },
    {
     "data": {
      "image/png": "[encoded data removed]",
      "text/plain": [
       "<Figure size 720x720 with 1 Axes>"
      ]
     },
     "metadata": {
      "needs_background": "light"
     },
     "output_type": "display_data"
    }
   ],
   "source": [
    "starno = 4\n",
    "plt.plot(table2['hmjd'][starno]-min(table2['hmjd'][starno]),table2['mag'][starno],'k.')\n",
    "plt.ylim([max(table2['mag'][starno]),min(table2['mag'][starno])])"
   ]
  },
  {
   "cell_type": "code",
   "execution_count": 9,
   "metadata": {},
   "outputs": [
    {
     "data": {
      "text/html": [
       "<div>\n",
       "<style scoped>\n",
       "    .dataframe tbody tr th:only-of-type {\n",
       "        vertical-align: middle;\n",
       "    }\n",
       "\n",
       "    .dataframe tbody tr th {\n",
       "        vertical-align: top;\n",
       "    }\n",
       "\n",
       "    .dataframe thead th {\n",
       "        text-align: right;\n",
       "    }\n",
       "</style>\n",
       "<table border=\"1\" class=\"dataframe\">\n",
       "  <thead>\n",
       "    <tr style=\"text-align: right;\">\n",
       "      <th></th>\n",
       "      <th>objectid</th>\n",
       "      <th>filterid</th>\n",
       "      <th>fieldid</th>\n",
       "      <th>rcid</th>\n",
       "      <th>objra</th>\n",
       "      <th>objdec</th>\n",
       "      <th>nepochs</th>\n",
       "      <th>hmjd</th>\n",
       "      <th>mag</th>\n",
       "      <th>magerr</th>\n",
       "      <th>clrcoeff</th>\n",
       "      <th>catflags</th>\n",
       "    </tr>\n",
       "  </thead>\n",
       "  <tbody>\n",
       "    <tr>\n",
       "      <th>0</th>\n",
       "      <td>202110100000005</td>\n",
       "      <td>1</td>\n",
       "      <td>202</td>\n",
       "      <td>36</td>\n",
       "      <td>25.585081</td>\n",
       "      <td>-29.602604</td>\n",
       "      <td>31</td>\n",
       "      <td>[59128.31794809876, 59130.360875255894, 59144....</td>\n",
       "      <td>[14.32093, 14.246863, 14.308636, 14.298123, 14...</td>\n",
       "      <td>[0.013, 0.015, 0.017, 0.008, 0.009, 0.01, 0.00...</td>\n",
       "      <td>[-0.07429187, -0.0038190584, -0.116494596, -0....</td>\n",
       "      <td>[32768, 32768, 32768, 32768, 32768, 32768, 327...</td>\n",
       "    </tr>\n",
       "    <tr>\n",
       "      <th>1</th>\n",
       "      <td>202110100000010</td>\n",
       "      <td>1</td>\n",
       "      <td>202</td>\n",
       "      <td>36</td>\n",
       "      <td>25.813644</td>\n",
       "      <td>-29.600325</td>\n",
       "      <td>31</td>\n",
       "      <td>[59128.31794356229, 59130.360871362966, 59144....</td>\n",
       "      <td>[15.154198, 15.090372, 15.11953, 15.137973, 15...</td>\n",
       "      <td>[0.016, 0.012, 0.011, 0.012, 0.009, 0.014, 0.0...</td>\n",
       "      <td>[-0.07429187, -0.0038190584, -0.116494596, -0....</td>\n",
       "      <td>[32768, 32768, 32768, 32768, 32768, 32768, 327...</td>\n",
       "    </tr>\n",
       "    <tr>\n",
       "      <th>2</th>\n",
       "      <td>202110100000012</td>\n",
       "      <td>1</td>\n",
       "      <td>202</td>\n",
       "      <td>36</td>\n",
       "      <td>25.461700</td>\n",
       "      <td>-29.606005</td>\n",
       "      <td>31</td>\n",
       "      <td>[59128.31795039447, 59130.360877203755, 59144....</td>\n",
       "      <td>[18.21206, 18.13059, 18.24595, 18.202127, 18.3...</td>\n",
       "      <td>[0.091, 0.064, 0.041, 0.16, 0.208, 0.123, 0.17...</td>\n",
       "      <td>[-0.07429187, -0.0038190584, -0.116494596, -0....</td>\n",
       "      <td>[32768, 32768, 32768, 32768, 32768, 32768, 327...</td>\n",
       "    </tr>\n",
       "    <tr>\n",
       "      <th>3</th>\n",
       "      <td>202110100000014</td>\n",
       "      <td>1</td>\n",
       "      <td>202</td>\n",
       "      <td>36</td>\n",
       "      <td>25.116995</td>\n",
       "      <td>-29.612951</td>\n",
       "      <td>31</td>\n",
       "      <td>[59128.31795683084, 59130.360882663634, 59144....</td>\n",
       "      <td>[13.387552, 13.339505, 13.3843775, 13.3948345,...</td>\n",
       "      <td>[0.012, 0.011, 0.014, 0.009, 0.006, 0.011, 0.0...</td>\n",
       "      <td>[-0.07429187, -0.0038190584, -0.116494596, -0....</td>\n",
       "      <td>[32768, 32768, 32768, 32768, 32768, 32768, 327...</td>\n",
       "    </tr>\n",
       "    <tr>\n",
       "      <th>4</th>\n",
       "      <td>202110100000015</td>\n",
       "      <td>1</td>\n",
       "      <td>202</td>\n",
       "      <td>36</td>\n",
       "      <td>25.636787</td>\n",
       "      <td>-29.607496</td>\n",
       "      <td>32</td>\n",
       "      <td>[59128.31794677302, 59130.36087407498, 59138.3...</td>\n",
       "      <td>[17.638931, 17.629591, 17.6101, 17.628624, 17....</td>\n",
       "      <td>[0.076, 0.058, 0.033, 0.03, 0.079, 0.08, 0.076...</td>\n",
       "      <td>[-0.07429187, -0.0038190584, -0.047170106, -0....</td>\n",
       "      <td>[32768, 32768, 65535, 32768, 32768, 32768, 327...</td>\n",
       "    </tr>\n",
       "    <tr>\n",
       "      <th>...</th>\n",
       "      <td>...</td>\n",
       "      <td>...</td>\n",
       "      <td>...</td>\n",
       "      <td>...</td>\n",
       "      <td>...</td>\n",
       "      <td>...</td>\n",
       "      <td>...</td>\n",
       "      <td>...</td>\n",
       "      <td>...</td>\n",
       "      <td>...</td>\n",
       "      <td>...</td>\n",
       "      <td>...</td>\n",
       "    </tr>\n",
       "    <tr>\n",
       "      <th>997</th>\n",
       "      <td>202110100018768</td>\n",
       "      <td>1</td>\n",
       "      <td>202</td>\n",
       "      <td>36</td>\n",
       "      <td>25.346989</td>\n",
       "      <td>-30.090820</td>\n",
       "      <td>16</td>\n",
       "      <td>[59130.36085104011, 59136.35610138206, 59140.2...</td>\n",
       "      <td>[18.556131, 19.350126, 19.163164, 18.598461, 1...</td>\n",
       "      <td>[0.176, 0.107, 0.106, 0.239, 0.098, 0.129, 0.0...</td>\n",
       "      <td>[-0.0038190584, -0.075863294, -0.07304061, -0....</td>\n",
       "      <td>[32768, 32768, 32768, 32768, 32768, 32768, 327...</td>\n",
       "    </tr>\n",
       "    <tr>\n",
       "      <th>998</th>\n",
       "      <td>202110100018769</td>\n",
       "      <td>1</td>\n",
       "      <td>202</td>\n",
       "      <td>36</td>\n",
       "      <td>25.555977</td>\n",
       "      <td>-30.122820</td>\n",
       "      <td>22</td>\n",
       "      <td>[59130.36084559187, 59136.35609753616, 59138.3...</td>\n",
       "      <td>[18.901386, 19.386003, 19.21555, 19.237371, 19...</td>\n",
       "      <td>[0.204, 0.1, 0.203, 0.087, 0.084, 0.273, 0.109...</td>\n",
       "      <td>[-0.0038190584, -0.075863294, -0.047170106, -0...</td>\n",
       "      <td>[32768, 32768, 32768, 32768, 32768, 32768, 327...</td>\n",
       "    </tr>\n",
       "    <tr>\n",
       "      <th>999</th>\n",
       "      <td>202110100018780</td>\n",
       "      <td>1</td>\n",
       "      <td>202</td>\n",
       "      <td>36</td>\n",
       "      <td>25.069256</td>\n",
       "      <td>-29.890234</td>\n",
       "      <td>13</td>\n",
       "      <td>[59144.31892740959, 59158.301490969025, 59168....</td>\n",
       "      <td>[19.625488, 18.576614, 19.182188, 19.213587, 1...</td>\n",
       "      <td>[0.114, 0.216, 0.104, 0.107, 0.178, 0.176, 0.0...</td>\n",
       "      <td>[-0.116494596, -0.05168281, -0.107483394, -0.1...</td>\n",
       "      <td>[32768, 32768, 32768, 32768, 32768, 32768, 327...</td>\n",
       "    </tr>\n",
       "    <tr>\n",
       "      <th>1000</th>\n",
       "      <td>202110100018799</td>\n",
       "      <td>1</td>\n",
       "      <td>202</td>\n",
       "      <td>36</td>\n",
       "      <td>25.097282</td>\n",
       "      <td>-30.454855</td>\n",
       "      <td>17</td>\n",
       "      <td>[59136.35608077934, 59144.318890076596, 59168....</td>\n",
       "      <td>[19.68917, 19.3366, 19.466658, 19.428482, 19.6...</td>\n",
       "      <td>[0.112, 0.096, 0.099, 0.133, 0.157, 0.159, 0.1...</td>\n",
       "      <td>[-0.075863294, -0.116494596, -0.107483394, -0....</td>\n",
       "      <td>[32768, 32768, 32768, 32768, 32768, 32768, 327...</td>\n",
       "    </tr>\n",
       "    <tr>\n",
       "      <th>1001</th>\n",
       "      <td>202110100018814</td>\n",
       "      <td>1</td>\n",
       "      <td>202</td>\n",
       "      <td>36</td>\n",
       "      <td>25.356365</td>\n",
       "      <td>-29.881828</td>\n",
       "      <td>11</td>\n",
       "      <td>[59136.35611424316, 59140.29723196896, 59144.3...</td>\n",
       "      <td>[19.874716, 19.752554, 19.784052, 19.56372, 19...</td>\n",
       "      <td>[0.129, 0.131, 0.093, 0.112, 0.162, 0.129, 0.1...</td>\n",
       "      <td>[-0.075863294, -0.07304061, -0.116494596, -0.1...</td>\n",
       "      <td>[32768, 32768, 32768, 32768, 32768, 32768, 327...</td>\n",
       "    </tr>\n",
       "  </tbody>\n",
       "</table>\n",
       "<p>1002 rows × 12 columns</p>\n",
       "</div>"
      ],
      "text/plain": [
       "             objectid  filterid  fieldid  rcid      objra     objdec  nepochs  \\\n",
       "0     202110100000005         1      202    36  25.585081 -29.602604       31   \n",
       "1     202110100000010         1      202    36  25.813644 -29.600325       31   \n",
       "2     202110100000012         1      202    36  25.461700 -29.606005       31   \n",
       "3     202110100000014         1      202    36  25.116995 -29.612951       31   \n",
       "4     202110100000015         1      202    36  25.636787 -29.607496       32   \n",
       "...               ...       ...      ...   ...        ...        ...      ...   \n",
       "997   202110100018768         1      202    36  25.346989 -30.090820       16   \n",
       "998   202110100018769         1      202    36  25.555977 -30.122820       22   \n",
       "999   202110100018780         1      202    36  25.069256 -29.890234       13   \n",
       "1000  202110100018799         1      202    36  25.097282 -30.454855       17   \n",
       "1001  202110100018814         1      202    36  25.356365 -29.881828       11   \n",
       "\n",
       "                                                   hmjd  \\\n",
       "0     [59128.31794809876, 59130.360875255894, 59144....   \n",
       "1     [59128.31794356229, 59130.360871362966, 59144....   \n",
       "2     [59128.31795039447, 59130.360877203755, 59144....   \n",
       "3     [59128.31795683084, 59130.360882663634, 59144....   \n",
       "4     [59128.31794677302, 59130.36087407498, 59138.3...   \n",
       "...                                                 ...   \n",
       "997   [59130.36085104011, 59136.35610138206, 59140.2...   \n",
       "998   [59130.36084559187, 59136.35609753616, 59138.3...   \n",
       "999   [59144.31892740959, 59158.301490969025, 59168....   \n",
       "1000  [59136.35608077934, 59144.318890076596, 59168....   \n",
       "1001  [59136.35611424316, 59140.29723196896, 59144.3...   \n",
       "\n",
       "                                                    mag  \\\n",
       "0     [14.32093, 14.246863, 14.308636, 14.298123, 14...   \n",
       "1     [15.154198, 15.090372, 15.11953, 15.137973, 15...   \n",
       "2     [18.21206, 18.13059, 18.24595, 18.202127, 18.3...   \n",
       "3     [13.387552, 13.339505, 13.3843775, 13.3948345,...   \n",
       "4     [17.638931, 17.629591, 17.6101, 17.628624, 17....   \n",
       "...                                                 ...   \n",
       "997   [18.556131, 19.350126, 19.163164, 18.598461, 1...   \n",
       "998   [18.901386, 19.386003, 19.21555, 19.237371, 19...   \n",
       "999   [19.625488, 18.576614, 19.182188, 19.213587, 1...   \n",
       "1000  [19.68917, 19.3366, 19.466658, 19.428482, 19.6...   \n",
       "1001  [19.874716, 19.752554, 19.784052, 19.56372, 19...   \n",
       "\n",
       "                                                 magerr  \\\n",
       "0     [0.013, 0.015, 0.017, 0.008, 0.009, 0.01, 0.00...   \n",
       "1     [0.016, 0.012, 0.011, 0.012, 0.009, 0.014, 0.0...   \n",
       "2     [0.091, 0.064, 0.041, 0.16, 0.208, 0.123, 0.17...   \n",
       "3     [0.012, 0.011, 0.014, 0.009, 0.006, 0.011, 0.0...   \n",
       "4     [0.076, 0.058, 0.033, 0.03, 0.079, 0.08, 0.076...   \n",
       "...                                                 ...   \n",
       "997   [0.176, 0.107, 0.106, 0.239, 0.098, 0.129, 0.0...   \n",
       "998   [0.204, 0.1, 0.203, 0.087, 0.084, 0.273, 0.109...   \n",
       "999   [0.114, 0.216, 0.104, 0.107, 0.178, 0.176, 0.0...   \n",
       "1000  [0.112, 0.096, 0.099, 0.133, 0.157, 0.159, 0.1...   \n",
       "1001  [0.129, 0.131, 0.093, 0.112, 0.162, 0.129, 0.1...   \n",
       "\n",
       "                                               clrcoeff  \\\n",
       "0     [-0.07429187, -0.0038190584, -0.116494596, -0....   \n",
       "1     [-0.07429187, -0.0038190584, -0.116494596, -0....   \n",
       "2     [-0.07429187, -0.0038190584, -0.116494596, -0....   \n",
       "3     [-0.07429187, -0.0038190584, -0.116494596, -0....   \n",
       "4     [-0.07429187, -0.0038190584, -0.047170106, -0....   \n",
       "...                                                 ...   \n",
       "997   [-0.0038190584, -0.075863294, -0.07304061, -0....   \n",
       "998   [-0.0038190584, -0.075863294, -0.047170106, -0...   \n",
       "999   [-0.116494596, -0.05168281, -0.107483394, -0.1...   \n",
       "1000  [-0.075863294, -0.116494596, -0.107483394, -0....   \n",
       "1001  [-0.075863294, -0.07304061, -0.116494596, -0.1...   \n",
       "\n",
       "                                               catflags  \n",
       "0     [32768, 32768, 32768, 32768, 32768, 32768, 327...  \n",
       "1     [32768, 32768, 32768, 32768, 32768, 32768, 327...  \n",
       "2     [32768, 32768, 32768, 32768, 32768, 32768, 327...  \n",
       "3     [32768, 32768, 32768, 32768, 32768, 32768, 327...  \n",
       "4     [32768, 32768, 65535, 32768, 32768, 32768, 327...  \n",
       "...                                                 ...  \n",
       "997   [32768, 32768, 32768, 32768, 32768, 32768, 327...  \n",
       "998   [32768, 32768, 32768, 32768, 32768, 32768, 327...  \n",
       "999   [32768, 32768, 32768, 32768, 32768, 32768, 327...  \n",
       "1000  [32768, 32768, 32768, 32768, 32768, 32768, 327...  \n",
       "1001  [32768, 32768, 32768, 32768, 32768, 32768, 327...  \n",
       "\n",
       "[1002 rows x 12 columns]"
      ]
     },
     "execution_count": 9,
     "metadata": {},
     "output_type": "execute_result"
    }
   ],
   "source": [
    "table2"
   ]
  },
  {
   "cell_type": "markdown",
   "metadata": {},
   "source": [
    "# see how many stars we have"
   ]
  },
  {
   "cell_type": "code",
   "execution_count": 47,
   "metadata": {},
   "outputs": [],
   "source": [
    "data = pd.read_table('./ztf_target.txt',skiprows=60,delim_whitespace=True,\n",
    "                     names=['oid','ra','dec','field','ccdid','qid','filtercode','ngoodobs','ngoodobsrel',\n",
    "                             'nobs','nobsrel','refmag (mag)','refmagerr (mag)','astrometricrms (deg)',\n",
    "                             'chisq','magrms (mag)','maxmag (mag)','medianabsdev (mag)','medianmag (mag)',\n",
    "                           'medmagerr','minmag'])"
   ]
  },
  {
   "cell_type": "code",
   "execution_count": 49,
   "metadata": {},
   "outputs": [],
   "source": [
    "g = data.loc[data['filtercode']=='zg'].reset_index(drop=True)\n",
    "r = data.loc[data['filtercode']=='zr'].reset_index(drop=True)\n",
    "i = data.loc[data['filtercode']=='zi'].reset_index(drop=True)\n"
   ]
  },
  {
   "cell_type": "code",
   "execution_count": 50,
   "metadata": {},
   "outputs": [
    {
     "name": "stdout",
     "output_type": "stream",
     "text": [
      "(1499167, 21) (2162749, 21) (813257, 21)\n"
     ]
    }
   ],
   "source": [
    "print(np.shape(g),np.shape(r),np.shape(i))"
   ]
  },
  {
   "cell_type": "code",
   "execution_count": 54,
   "metadata": {},
   "outputs": [
    {
     "name": "stdout",
     "output_type": "stream",
     "text": [
      "(4475173, 21)\n",
      "(4475173, 21)\n"
     ]
    }
   ],
   "source": [
    "print(np.shape(data))\n",
    "data.drop_duplicates(subset='oid', keep='first')\n",
    "print(np.shape(data))"
   ]
  },
  {
   "cell_type": "code",
   "execution_count": null,
   "metadata": {},
   "outputs": [],
   "source": []
  }
 ],
 "metadata": {
  "kernelspec": {
   "display_name": "Python 3",
   "language": "python",
   "name": "python3"
  },
  "language_info": {
   "codemirror_mode": {
    "name": "ipython",
    "version": 3
   },
   "file_extension": ".py",
   "mimetype": "text/x-python",
   "name": "python",
   "nbconvert_exporter": "python",
   "pygments_lexer": "ipython3",
   "version": "3.8.5"
  }
 },
 "nbformat": 4,
 "nbformat_minor": 4
}
